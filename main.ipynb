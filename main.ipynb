{
 "cells": [
  {
   "cell_type": "code",
   "execution_count": 1,
   "metadata": {
    "colab": {
     "base_uri": "https://localhost:8080/"
    },
    "id": "9ff5iPxnYC1v",
    "outputId": "ce8142bd-3ff5-4abd-cc31-75dd30c4fb09"
   },
   "outputs": [
    {
     "output_type": "stream",
     "name": "stdout",
     "text": [
      "Cloning into 'rapidsai-csp-utils'...\n",
      "remote: Enumerating objects: 592, done.\u001B[K\n",
      "remote: Counting objects: 100% (158/158), done.\u001B[K\n",
      "remote: Compressing objects: 100% (76/76), done.\u001B[K\n",
      "remote: Total 592 (delta 125), reused 82 (delta 82), pack-reused 434 (from 3)\u001B[K\n",
      "Receiving objects: 100% (592/592), 194.79 KiB | 8.47 MiB/s, done.\n",
      "Resolving deltas: 100% (299/299), done.\n",
      "Installing RAPIDS remaining 25.04 libraries\n",
      "Using Python 3.11.12 environment at: /usr\n",
      "Resolved 173 packages in 1.44s\n",
      "Downloading cugraph-cu12 (3.0MiB)\n",
      "Downloading cudf-cu12 (1.7MiB)\n",
      "Downloading rmm-cu12 (1.5MiB)\n",
      "Downloading ucx-py-cu12 (2.2MiB)\n",
      "Downloading libcuspatial-cu12 (31.1MiB)\n",
      "Downloading datashader (17.5MiB)\n",
      "Downloading dask (1.3MiB)\n",
      "Downloading shapely (2.4MiB)\n",
      "Downloading bokeh (6.6MiB)\n",
      "Downloading libcuvs-cu12 (1.1GiB)\n",
      "Downloading pylibcudf-cu12 (26.4MiB)\n",
      "Downloading librmm-cu12 (2.9MiB)\n",
      "Downloading libcudf-cu12 (538.8MiB)\n",
      "Downloading libcugraph-cu12 (1.4GiB)\n",
      "Downloading cuspatial-cu12 (4.1MiB)\n",
      "Downloading raft-dask-cu12 (274.9MiB)\n",
      "Downloading cuml-cu12 (9.4MiB)\n",
      "Downloading pylibcugraph-cu12 (2.0MiB)\n",
      "Downloading cuproj-cu12 (1.1MiB)\n",
      "Downloading libkvikio-cu12 (2.0MiB)\n",
      "Downloading libcuml-cu12 (404.9MiB)\n",
      "Downloading libraft-cu12 (20.8MiB)\n",
      "Downloading cucim-cu12 (5.6MiB)\n",
      " Downloaded cuproj-cu12\n",
      " Downloaded rmm-cu12\n",
      " Downloaded shapely\n",
      " Downloaded libkvikio-cu12\n",
      " Downloaded datashader\n",
      " Downloaded dask\n",
      " Downloaded pylibcugraph-cu12\n",
      " Downloaded ucx-py-cu12\n",
      " Downloaded cudf-cu12\n",
      " Downloaded bokeh\n",
      " Downloaded cugraph-cu12\n",
      " Downloaded cuspatial-cu12\n",
      " Downloaded librmm-cu12\n",
      " Downloaded cucim-cu12\n",
      " Downloaded cuml-cu12\n",
      " Downloaded libcuspatial-cu12\n",
      " Downloaded libraft-cu12\n",
      " Downloaded pylibcudf-cu12\n",
      " Downloaded raft-dask-cu12\n",
      " Downloaded libcudf-cu12\n",
      " Downloaded libcuml-cu12\n",
      " Downloaded libcuvs-cu12\n",
      " Downloaded libcugraph-cu12\n",
      "Prepared 52 packages in 1m 13s\n",
      "Uninstalled 29 packages in 864ms\n",
      "Installed 52 packages in 676ms\n",
      " + arrow==1.3.0\n",
      " - bokeh==3.7.2\n",
      " + bokeh==3.6.3\n",
      " + cucim-cu12==25.4.0\n",
      " - cudf-cu12==25.2.1 (from https://pypi.nvidia.com/cudf-cu12/cudf_cu12-25.2.1-cp311-cp311-manylinux_2_24_x86_64.manylinux_2_28_x86_64.whl)\n",
      " + cudf-cu12==25.4.0\n",
      " + cugraph-cu12==25.4.1\n",
      " - cuml-cu12==25.2.1\n",
      " + cuml-cu12==25.4.0\n",
      " + cuproj-cu12==25.4.0\n",
      " + cuspatial-cu12==25.4.0\n",
      " - cuvs-cu12==25.2.1\n",
      " + cuvs-cu12==25.4.0\n",
      " + cuxfilter-cu12==25.4.0\n",
      " - dask==2024.12.1\n",
      " + dask==2025.2.0\n",
      " - dask-cuda==25.2.0\n",
      " + dask-cuda==25.4.0\n",
      " - dask-cudf-cu12==25.2.2\n",
      " + dask-cudf-cu12==25.4.0\n",
      " + datashader==0.18.0\n",
      " - distributed==2024.12.1\n",
      " + distributed==2025.2.0\n",
      " - distributed-ucxx-cu12==0.42.0\n",
      " + distributed-ucxx-cu12==0.43.0\n",
      " + fqdn==1.5.1\n",
      " + isoduration==20.11.0\n",
      " - jupyter-client==6.1.12\n",
      " + jupyter-client==8.6.3\n",
      " + jupyter-events==0.12.0\n",
      " - jupyter-server==1.16.0\n",
      " + jupyter-server==2.15.0\n",
      " + jupyter-server-proxy==4.4.0\n",
      " + jupyter-server-terminals==0.5.3\n",
      " - libcudf-cu12==25.2.1 (from https://pypi.nvidia.com/libcudf-cu12/libcudf_cu12-25.2.1-py3-none-manylinux_2_28_x86_64.whl)\n",
      " + libcudf-cu12==25.4.0\n",
      " - libcugraph-cu12==25.2.0\n",
      " + libcugraph-cu12==25.4.1\n",
      " - libcuml-cu12==25.2.1\n",
      " + libcuml-cu12==25.4.0\n",
      " + libcuspatial-cu12==25.4.0\n",
      " - libcuvs-cu12==25.2.1\n",
      " + libcuvs-cu12==25.4.0\n",
      " - libkvikio-cu12==25.2.1\n",
      " + libkvikio-cu12==25.4.0\n",
      " - libraft-cu12==25.2.0\n",
      " + libraft-cu12==25.4.0\n",
      " + librmm-cu12==25.4.0\n",
      " - libucxx-cu12==0.42.0\n",
      " + libucxx-cu12==0.43.0\n",
      " - numba-cuda==0.2.0\n",
      " + numba-cuda==0.4.0\n",
      " - nx-cugraph-cu12==25.2.0 (from https://pypi.nvidia.com/nx-cugraph-cu12/nx_cugraph_cu12-25.2.0-py3-none-any.whl)\n",
      " + nx-cugraph-cu12==25.4.0\n",
      " + overrides==7.7.0\n",
      " + pyct==0.5.0\n",
      " - pylibcudf-cu12==25.2.1 (from https://pypi.nvidia.com/pylibcudf-cu12/pylibcudf_cu12-25.2.1-cp311-cp311-manylinux_2_24_x86_64.manylinux_2_28_x86_64.whl)\n",
      " + pylibcudf-cu12==25.4.0\n",
      " - pylibcugraph-cu12==25.2.0\n",
      " + pylibcugraph-cu12==25.4.1\n",
      " - pylibraft-cu12==25.2.0\n",
      " + pylibraft-cu12==25.4.0\n",
      " + python-json-logger==3.3.0\n",
      " - raft-dask-cu12==25.2.0\n",
      " + raft-dask-cu12==25.4.0\n",
      " - rapids-dask-dependency==25.2.0\n",
      " + rapids-dask-dependency==25.4.0\n",
      " + rapids-logger==0.1.1\n",
      " + rfc3339-validator==0.1.4\n",
      " + rfc3986-validator==0.1.1\n",
      " - rmm-cu12==25.2.0\n",
      " + rmm-cu12==25.4.0\n",
      " - shapely==2.1.0\n",
      " + shapely==2.0.7\n",
      " + simpervisor==1.0.0\n",
      " + types-python-dateutil==2.9.0.20241206\n",
      " - ucx-py-cu12==0.42.0\n",
      " + ucx-py-cu12==0.43.0\n",
      " - ucxx-cu12==0.42.0\n",
      " + ucxx-cu12==0.43.0\n",
      " + uri-template==1.3.0\n",
      "\n",
      "        ***********************************************************************\n",
      "        The pip install of RAPIDS is complete.\n",
      "\n",
      "        Please do not run any further installation from the conda based installation methods, as they may cause issues!\n",
      "\n",
      "        Please ensure that you're pulling from the git repo to remain updated with the latest working install scripts.\n",
      "\n",
      "        Troubleshooting:\n",
      "            - If there is an installation failure, please check back on RAPIDSAI owned templates/notebooks to see how to update your personal files.\n",
      "            - If an installation failure persists when using the latest script, please make an issue on https://github.com/rapidsai-community/rapidsai-csp-utils\n",
      "        ***********************************************************************\n",
      "        \n"
     ]
    }
   ],
   "source": [
    "!git clone https://github.com/rapidsai/rapidsai-csp-utils.git\n",
    "!python rapidsai-csp-utils/colab/pip-install.py"
   ]
  },
  {
   "cell_type": "code",
   "execution_count": 2,
   "metadata": {
    "colab": {
     "base_uri": "https://localhost:8080/"
    },
    "id": "pR6tP8uicOwP",
    "outputId": "3a2d1807-b3ac-4a91-b73c-474551555678"
   },
   "outputs": [
    {
     "output_type": "stream",
     "name": "stdout",
     "text": [
      "Collecting optuna\n",
      "  Downloading optuna-4.3.0-py3-none-any.whl.metadata (17 kB)\n",
      "Collecting alembic>=1.5.0 (from optuna)\n",
      "  Downloading alembic-1.15.2-py3-none-any.whl.metadata (7.3 kB)\n",
      "Collecting colorlog (from optuna)\n",
      "  Downloading colorlog-6.9.0-py3-none-any.whl.metadata (10 kB)\n",
      "Requirement already satisfied: numpy in /usr/local/lib/python3.11/dist-packages (from optuna) (2.0.2)\n",
      "Requirement already satisfied: packaging>=20.0 in /usr/local/lib/python3.11/dist-packages (from optuna) (24.2)\n",
      "Requirement already satisfied: sqlalchemy>=1.4.2 in /usr/local/lib/python3.11/dist-packages (from optuna) (2.0.40)\n",
      "Requirement already satisfied: tqdm in /usr/local/lib/python3.11/dist-packages (from optuna) (4.67.1)\n",
      "Requirement already satisfied: PyYAML in /usr/local/lib/python3.11/dist-packages (from optuna) (6.0.2)\n",
      "Requirement already satisfied: Mako in /usr/lib/python3/dist-packages (from alembic>=1.5.0->optuna) (1.1.3)\n",
      "Requirement already satisfied: typing-extensions>=4.12 in /usr/local/lib/python3.11/dist-packages (from alembic>=1.5.0->optuna) (4.13.2)\n",
      "Requirement already satisfied: greenlet>=1 in /usr/local/lib/python3.11/dist-packages (from sqlalchemy>=1.4.2->optuna) (3.2.1)\n",
      "Downloading optuna-4.3.0-py3-none-any.whl (386 kB)\n",
      "\u001B[2K   \u001B[90m━━━━━━━━━━━━━━━━━━━━━━━━━━━━━━━━━━━━━━━━\u001B[0m \u001B[32m386.6/386.6 kB\u001B[0m \u001B[31m12.5 MB/s\u001B[0m eta \u001B[36m0:00:00\u001B[0m\n",
      "\u001B[?25hDownloading alembic-1.15.2-py3-none-any.whl (231 kB)\n",
      "\u001B[2K   \u001B[90m━━━━━━━━━━━━━━━━━━━━━━━━━━━━━━━━━━━━━━━━\u001B[0m \u001B[32m231.9/231.9 kB\u001B[0m \u001B[31m19.7 MB/s\u001B[0m eta \u001B[36m0:00:00\u001B[0m\n",
      "\u001B[?25hDownloading colorlog-6.9.0-py3-none-any.whl (11 kB)\n",
      "Installing collected packages: colorlog, alembic, optuna\n",
      "Successfully installed alembic-1.15.2 colorlog-6.9.0 optuna-4.3.0\n"
     ]
    }
   ],
   "source": [
    "!pip install optuna"
   ]
  },
  {
   "cell_type": "code",
   "execution_count": 3,
   "metadata": {
    "id": "sQyTXDCaf9i4"
   },
   "outputs": [],
   "source": [
    "import numpy as np\n",
    "import pandas as pd\n",
    "# import cudf\n",
    "import optuna\n",
    "\n",
    "from sklearn.preprocessing import LabelEncoder, StandardScaler\n",
    "from sklearn.pipeline import Pipeline\n",
    "from sklearn.model_selection import train_test_split\n",
    "from sklearn.feature_extraction.text import TfidfVectorizer\n",
    "from sklearn.neural_network import MLPClassifier\n",
    "from sklearn.ensemble import StackingClassifier\n",
    "from sklearn.ensemble import RandomForestClassifier\n",
    "from cuml.svm import SVC\n",
    "from cuml.linear_model import LogisticRegression\n",
    "\n",
    "\n",
    "from sklearn.metrics import accuracy_score, classification_report\n",
    "from sklearn.model_selection import cross_val_score\n",
    "\n",
    "from nltk.corpus import stopwords\n",
    "from nltk.tokenize import word_tokenize\n",
    "import nltk"
   ]
  },
  {
   "cell_type": "code",
   "execution_count": 4,
   "metadata": {
    "colab": {
     "base_uri": "https://localhost:8080/"
    },
    "id": "J7n9QddCh5VA",
    "outputId": "3552d2a6-22d0-416f-eeb8-1d8f2b3e9df8"
   },
   "outputs": [
    {
     "output_type": "stream",
     "name": "stderr",
     "text": [
      "[nltk_data] Downloading package stopwords to /usr/lib/nltk_data...\n",
      "[nltk_data]   Unzipping corpora/stopwords.zip.\n",
      "[nltk_data] Downloading package punkt_tab to /usr/lib/nltk_data...\n",
      "[nltk_data]   Unzipping tokenizers/punkt_tab.zip.\n"
     ]
    },
    {
     "output_type": "execute_result",
     "data": {
      "text/plain": [
       "True"
      ]
     },
     "metadata": {},
     "execution_count": 4
    }
   ],
   "source": [
    "nltk.data.path.append('/usr/lib/nltk_data')\n",
    "nltk.download('stopwords', download_dir='/usr/lib/nltk_data')\n",
    "nltk.download('punkt_tab', download_dir='/usr/lib/nltk_data')"
   ]
  },
  {
   "cell_type": "code",
   "execution_count": 5,
   "metadata": {
    "colab": {
     "base_uri": "https://localhost:8080/",
     "height": 423
    },
    "id": "dHBqDPSKmUGX",
    "outputId": "d9e81133-b451-4ae7-c8af-49d69809d8e2"
   },
   "outputs": [
    {
     "output_type": "execute_result",
     "data": {
      "text/plain": [
       "                                                  review sentiment\n",
       "0      One of the other reviewers has mentioned that ...  positive\n",
       "1      A wonderful little production. <br /><br />The...  positive\n",
       "2      I thought this was a wonderful way to spend ti...  positive\n",
       "3      Basically there's a family where a little boy ...  negative\n",
       "4      Petter Mattei's \"Love in the Time of Money\" is...  positive\n",
       "...                                                  ...       ...\n",
       "49995  I thought this movie did a down right good job...  positive\n",
       "49996  Bad plot, bad dialogue, bad acting, idiotic di...  negative\n",
       "49997  I am a Catholic taught in parochial elementary...  negative\n",
       "49998  I'm going to have to disagree with the previou...  negative\n",
       "49999  No one expects the Star Trek movies to be high...  negative\n",
       "\n",
       "[50000 rows x 2 columns]"
      ],
      "text/html": [
       "\n",
       "  <div id=\"df-eccd19e1-ee5f-4eb5-9729-b234ee3052f3\" class=\"colab-df-container\">\n",
       "    <div>\n",
       "<style scoped>\n",
       "    .dataframe tbody tr th:only-of-type {\n",
       "        vertical-align: middle;\n",
       "    }\n",
       "\n",
       "    .dataframe tbody tr th {\n",
       "        vertical-align: top;\n",
       "    }\n",
       "\n",
       "    .dataframe thead th {\n",
       "        text-align: right;\n",
       "    }\n",
       "</style>\n",
       "<table border=\"1\" class=\"dataframe\">\n",
       "  <thead>\n",
       "    <tr style=\"text-align: right;\">\n",
       "      <th></th>\n",
       "      <th>review</th>\n",
       "      <th>sentiment</th>\n",
       "    </tr>\n",
       "  </thead>\n",
       "  <tbody>\n",
       "    <tr>\n",
       "      <th>0</th>\n",
       "      <td>One of the other reviewers has mentioned that ...</td>\n",
       "      <td>positive</td>\n",
       "    </tr>\n",
       "    <tr>\n",
       "      <th>1</th>\n",
       "      <td>A wonderful little production. &lt;br /&gt;&lt;br /&gt;The...</td>\n",
       "      <td>positive</td>\n",
       "    </tr>\n",
       "    <tr>\n",
       "      <th>2</th>\n",
       "      <td>I thought this was a wonderful way to spend ti...</td>\n",
       "      <td>positive</td>\n",
       "    </tr>\n",
       "    <tr>\n",
       "      <th>3</th>\n",
       "      <td>Basically there's a family where a little boy ...</td>\n",
       "      <td>negative</td>\n",
       "    </tr>\n",
       "    <tr>\n",
       "      <th>4</th>\n",
       "      <td>Petter Mattei's \"Love in the Time of Money\" is...</td>\n",
       "      <td>positive</td>\n",
       "    </tr>\n",
       "    <tr>\n",
       "      <th>...</th>\n",
       "      <td>...</td>\n",
       "      <td>...</td>\n",
       "    </tr>\n",
       "    <tr>\n",
       "      <th>49995</th>\n",
       "      <td>I thought this movie did a down right good job...</td>\n",
       "      <td>positive</td>\n",
       "    </tr>\n",
       "    <tr>\n",
       "      <th>49996</th>\n",
       "      <td>Bad plot, bad dialogue, bad acting, idiotic di...</td>\n",
       "      <td>negative</td>\n",
       "    </tr>\n",
       "    <tr>\n",
       "      <th>49997</th>\n",
       "      <td>I am a Catholic taught in parochial elementary...</td>\n",
       "      <td>negative</td>\n",
       "    </tr>\n",
       "    <tr>\n",
       "      <th>49998</th>\n",
       "      <td>I'm going to have to disagree with the previou...</td>\n",
       "      <td>negative</td>\n",
       "    </tr>\n",
       "    <tr>\n",
       "      <th>49999</th>\n",
       "      <td>No one expects the Star Trek movies to be high...</td>\n",
       "      <td>negative</td>\n",
       "    </tr>\n",
       "  </tbody>\n",
       "</table>\n",
       "<p>50000 rows × 2 columns</p>\n",
       "</div>\n",
       "    <div class=\"colab-df-buttons\">\n",
       "\n",
       "  <div class=\"colab-df-container\">\n",
       "    <button class=\"colab-df-convert\" onclick=\"convertToInteractive('df-eccd19e1-ee5f-4eb5-9729-b234ee3052f3')\"\n",
       "            title=\"Convert this dataframe to an interactive table.\"\n",
       "            style=\"display:none;\">\n",
       "\n",
       "  <svg xmlns=\"http://www.w3.org/2000/svg\" height=\"24px\" viewBox=\"0 -960 960 960\">\n",
       "    <path d=\"M120-120v-720h720v720H120Zm60-500h600v-160H180v160Zm220 220h160v-160H400v160Zm0 220h160v-160H400v160ZM180-400h160v-160H180v160Zm440 0h160v-160H620v160ZM180-180h160v-160H180v160Zm440 0h160v-160H620v160Z\"/>\n",
       "  </svg>\n",
       "    </button>\n",
       "\n",
       "  <style>\n",
       "    .colab-df-container {\n",
       "      display:flex;\n",
       "      gap: 12px;\n",
       "    }\n",
       "\n",
       "    .colab-df-convert {\n",
       "      background-color: #E8F0FE;\n",
       "      border: none;\n",
       "      border-radius: 50%;\n",
       "      cursor: pointer;\n",
       "      display: none;\n",
       "      fill: #1967D2;\n",
       "      height: 32px;\n",
       "      padding: 0 0 0 0;\n",
       "      width: 32px;\n",
       "    }\n",
       "\n",
       "    .colab-df-convert:hover {\n",
       "      background-color: #E2EBFA;\n",
       "      box-shadow: 0px 1px 2px rgba(60, 64, 67, 0.3), 0px 1px 3px 1px rgba(60, 64, 67, 0.15);\n",
       "      fill: #174EA6;\n",
       "    }\n",
       "\n",
       "    .colab-df-buttons div {\n",
       "      margin-bottom: 4px;\n",
       "    }\n",
       "\n",
       "    [theme=dark] .colab-df-convert {\n",
       "      background-color: #3B4455;\n",
       "      fill: #D2E3FC;\n",
       "    }\n",
       "\n",
       "    [theme=dark] .colab-df-convert:hover {\n",
       "      background-color: #434B5C;\n",
       "      box-shadow: 0px 1px 3px 1px rgba(0, 0, 0, 0.15);\n",
       "      filter: drop-shadow(0px 1px 2px rgba(0, 0, 0, 0.3));\n",
       "      fill: #FFFFFF;\n",
       "    }\n",
       "  </style>\n",
       "\n",
       "    <script>\n",
       "      const buttonEl =\n",
       "        document.querySelector('#df-eccd19e1-ee5f-4eb5-9729-b234ee3052f3 button.colab-df-convert');\n",
       "      buttonEl.style.display =\n",
       "        google.colab.kernel.accessAllowed ? 'block' : 'none';\n",
       "\n",
       "      async function convertToInteractive(key) {\n",
       "        const element = document.querySelector('#df-eccd19e1-ee5f-4eb5-9729-b234ee3052f3');\n",
       "        const dataTable =\n",
       "          await google.colab.kernel.invokeFunction('convertToInteractive',\n",
       "                                                    [key], {});\n",
       "        if (!dataTable) return;\n",
       "\n",
       "        const docLinkHtml = 'Like what you see? Visit the ' +\n",
       "          '<a target=\"_blank\" href=https://colab.research.google.com/notebooks/data_table.ipynb>data table notebook</a>'\n",
       "          + ' to learn more about interactive tables.';\n",
       "        element.innerHTML = '';\n",
       "        dataTable['output_type'] = 'display_data';\n",
       "        await google.colab.output.renderOutput(dataTable, element);\n",
       "        const docLink = document.createElement('div');\n",
       "        docLink.innerHTML = docLinkHtml;\n",
       "        element.appendChild(docLink);\n",
       "      }\n",
       "    </script>\n",
       "  </div>\n",
       "\n",
       "\n",
       "    <div id=\"df-1aa405f4-d9ad-4ea0-a324-68987f885a8a\">\n",
       "      <button class=\"colab-df-quickchart\" onclick=\"quickchart('df-1aa405f4-d9ad-4ea0-a324-68987f885a8a')\"\n",
       "                title=\"Suggest charts\"\n",
       "                style=\"display:none;\">\n",
       "\n",
       "<svg xmlns=\"http://www.w3.org/2000/svg\" height=\"24px\"viewBox=\"0 0 24 24\"\n",
       "     width=\"24px\">\n",
       "    <g>\n",
       "        <path d=\"M19 3H5c-1.1 0-2 .9-2 2v14c0 1.1.9 2 2 2h14c1.1 0 2-.9 2-2V5c0-1.1-.9-2-2-2zM9 17H7v-7h2v7zm4 0h-2V7h2v10zm4 0h-2v-4h2v4z\"/>\n",
       "    </g>\n",
       "</svg>\n",
       "      </button>\n",
       "\n",
       "<style>\n",
       "  .colab-df-quickchart {\n",
       "      --bg-color: #E8F0FE;\n",
       "      --fill-color: #1967D2;\n",
       "      --hover-bg-color: #E2EBFA;\n",
       "      --hover-fill-color: #174EA6;\n",
       "      --disabled-fill-color: #AAA;\n",
       "      --disabled-bg-color: #DDD;\n",
       "  }\n",
       "\n",
       "  [theme=dark] .colab-df-quickchart {\n",
       "      --bg-color: #3B4455;\n",
       "      --fill-color: #D2E3FC;\n",
       "      --hover-bg-color: #434B5C;\n",
       "      --hover-fill-color: #FFFFFF;\n",
       "      --disabled-bg-color: #3B4455;\n",
       "      --disabled-fill-color: #666;\n",
       "  }\n",
       "\n",
       "  .colab-df-quickchart {\n",
       "    background-color: var(--bg-color);\n",
       "    border: none;\n",
       "    border-radius: 50%;\n",
       "    cursor: pointer;\n",
       "    display: none;\n",
       "    fill: var(--fill-color);\n",
       "    height: 32px;\n",
       "    padding: 0;\n",
       "    width: 32px;\n",
       "  }\n",
       "\n",
       "  .colab-df-quickchart:hover {\n",
       "    background-color: var(--hover-bg-color);\n",
       "    box-shadow: 0 1px 2px rgba(60, 64, 67, 0.3), 0 1px 3px 1px rgba(60, 64, 67, 0.15);\n",
       "    fill: var(--button-hover-fill-color);\n",
       "  }\n",
       "\n",
       "  .colab-df-quickchart-complete:disabled,\n",
       "  .colab-df-quickchart-complete:disabled:hover {\n",
       "    background-color: var(--disabled-bg-color);\n",
       "    fill: var(--disabled-fill-color);\n",
       "    box-shadow: none;\n",
       "  }\n",
       "\n",
       "  .colab-df-spinner {\n",
       "    border: 2px solid var(--fill-color);\n",
       "    border-color: transparent;\n",
       "    border-bottom-color: var(--fill-color);\n",
       "    animation:\n",
       "      spin 1s steps(1) infinite;\n",
       "  }\n",
       "\n",
       "  @keyframes spin {\n",
       "    0% {\n",
       "      border-color: transparent;\n",
       "      border-bottom-color: var(--fill-color);\n",
       "      border-left-color: var(--fill-color);\n",
       "    }\n",
       "    20% {\n",
       "      border-color: transparent;\n",
       "      border-left-color: var(--fill-color);\n",
       "      border-top-color: var(--fill-color);\n",
       "    }\n",
       "    30% {\n",
       "      border-color: transparent;\n",
       "      border-left-color: var(--fill-color);\n",
       "      border-top-color: var(--fill-color);\n",
       "      border-right-color: var(--fill-color);\n",
       "    }\n",
       "    40% {\n",
       "      border-color: transparent;\n",
       "      border-right-color: var(--fill-color);\n",
       "      border-top-color: var(--fill-color);\n",
       "    }\n",
       "    60% {\n",
       "      border-color: transparent;\n",
       "      border-right-color: var(--fill-color);\n",
       "    }\n",
       "    80% {\n",
       "      border-color: transparent;\n",
       "      border-right-color: var(--fill-color);\n",
       "      border-bottom-color: var(--fill-color);\n",
       "    }\n",
       "    90% {\n",
       "      border-color: transparent;\n",
       "      border-bottom-color: var(--fill-color);\n",
       "    }\n",
       "  }\n",
       "</style>\n",
       "\n",
       "      <script>\n",
       "        async function quickchart(key) {\n",
       "          const quickchartButtonEl =\n",
       "            document.querySelector('#' + key + ' button');\n",
       "          quickchartButtonEl.disabled = true;  // To prevent multiple clicks.\n",
       "          quickchartButtonEl.classList.add('colab-df-spinner');\n",
       "          try {\n",
       "            const charts = await google.colab.kernel.invokeFunction(\n",
       "                'suggestCharts', [key], {});\n",
       "          } catch (error) {\n",
       "            console.error('Error during call to suggestCharts:', error);\n",
       "          }\n",
       "          quickchartButtonEl.classList.remove('colab-df-spinner');\n",
       "          quickchartButtonEl.classList.add('colab-df-quickchart-complete');\n",
       "        }\n",
       "        (() => {\n",
       "          let quickchartButtonEl =\n",
       "            document.querySelector('#df-1aa405f4-d9ad-4ea0-a324-68987f885a8a button');\n",
       "          quickchartButtonEl.style.display =\n",
       "            google.colab.kernel.accessAllowed ? 'block' : 'none';\n",
       "        })();\n",
       "      </script>\n",
       "    </div>\n",
       "    </div>\n",
       "  </div>\n"
      ],
      "application/vnd.google.colaboratory.intrinsic+json": {
       "type": "dataframe",
       "variable_name": "df",
       "summary": "{\n  \"name\": \"df\",\n  \"rows\": 50000,\n  \"fields\": [\n    {\n      \"column\": \"review\",\n      \"properties\": {\n        \"dtype\": \"string\",\n        \"num_unique_values\": 49582,\n        \"samples\": [\n          \"\\\"Soul Plane\\\" is a horrible attempt at comedy that only should appeal people with thick skulls, bloodshot eyes and furry pawns. <br /><br />The plot is not only incoherent but also non-existent, acting is mostly sub sub-par with a gang of highly moronic and dreadful characters thrown in for bad measure, jokes are often spotted miles ahead and almost never even a bit amusing. This movie lacks any structure and is full of racial stereotypes that must have seemed old even in the fifties, the only thing it really has going for it is some pretty ladies, but really, if you want that you can rent something from the \\\"Adult\\\" section. OK?<br /><br />I can hardly see anything here to recommend since you'll probably have a lot a better and productive time chasing rats with a sledgehammer or inventing waterproof teabags or whatever.<br /><br />2/10\",\n          \"Guest from the Future tells a fascinating story of time travel, friendship, battle of good and evil -- all with a small budget, child actors, and few special effects. Something for Spielberg and Lucas to learn from. ;) A sixth-grader Kolya \\\"Nick\\\" Gerasimov finds a time machine in the basement of a decrepit building and travels 100 years into the future. He discovers a near-perfect, utopian society where robots play guitars and write poetry, everyone is kind to each other and people enjoy everything technology has to offer. Alice is the daughter of a prominent scientist who invented a device called Mielophone that allows to read minds of humans and animals. The device can be put to both good and bad use, depending on whose hands it falls into. When two evil space pirates from Saturn who want to rule the universe attempt to steal Mielophone, it falls into the hands of 20th century school boy Nick. With the pirates hot on his tracks, he travels back to his time, followed by the pirates, and Alice. Chaos, confusion and funny situations follow as the luckless pirates try to blend in with the earthlings. Alice enrolls in the same school Nick goes to and demonstrates superhuman abilities in PE class. The catch is, Alice doesn't know what Nick looks like, while the pirates do. Also, the pirates are able to change their appearance and turn literally into anyone. (Hmm, I wonder if this is where James Cameron got the idea for Terminator...) Who gets to Nick -- and Mielophone -- first? Excellent plot, non-stop adventures, and great soundtrack. I wish Hollywood made kid movies like this one...\",\n          \"\\\"National Treasure\\\" (2004) is a thoroughly misguided hodge-podge of plot entanglements that borrow from nearly every cloak and dagger government conspiracy clich\\u0623\\u00a9 that has ever been written. The film stars Nicholas Cage as Benjamin Franklin Gates (how precious is that, I ask you?); a seemingly normal fellow who, for no other reason than being of a lineage of like-minded misguided fortune hunters, decides to steal a 'national treasure' that has been hidden by the United States founding fathers. After a bit of subtext and background that plays laughably (unintentionally) like Indiana Jones meets The Patriot, the film degenerates into one misguided whimsy after another \\u0622\\u2013 attempting to create a 'Stanley Goodspeed' regurgitation of Nicholas Cage and launch the whole convoluted mess forward with a series of high octane, but disconnected misadventures.<br /><br />The relevancy and logic to having George Washington and his motley crew of patriots burying a king's ransom someplace on native soil, and then, going through the meticulous plan of leaving clues scattered throughout U.S. currency art work, is something that director Jon Turteltaub never quite gets around to explaining. Couldn't Washington found better usage for such wealth during the start up of the country? Hence, we are left with a mystery built on top of an enigma that is already on shaky ground by the time Ben appoints himself the new custodian of this untold wealth. Ben's intentions are noble \\u0622\\u2013 if confusing. He's set on protecting the treasure. For who and when?\\u0622\\u2026your guess is as good as mine.<br /><br />But there are a few problems with Ben's crusade. First up, his friend, Ian Holmes (Sean Bean) decides that he can't wait for Ben to make up his mind about stealing the Declaration of Independence from the National Archives (oh, yeah \\u0622\\u2013 brilliant idea!). Presumably, the back of that famous document holds the secret answer to the ultimate fortune. So Ian tries to kill Ben. The assassination attempt is, of course, unsuccessful, if overly melodramatic. It also affords Ben the opportunity to pick up, and pick on, the very sultry curator of the archives, Abigail Chase (Diane Kruger). She thinks Ben is clearly a nut \\u0622\\u2013 at least at the beginning. But true to action/romance form, Abby's resolve melts quicker than you can say, \\\"is that the Hope Diamond?\\\" The film moves into full X-File-ish mode, as the FBI, mistakenly believing that Ben is behind the theft, retaliate in various benign ways that lead to a multi-layering of action sequences reminiscent of Mission Impossible meets The Fugitive. Honestly, don't those guys ever get 'intelligence' information that is correct? In the final analysis, \\\"National Treasure\\\" isn't great film making, so much as it's a patchwork rehash of tired old bits from other movies, woven together from scraps, the likes of which would make IL' Betsy Ross blush.<br /><br />The Buena Vista DVD delivers a far more generous treatment than this film is deserving of. The anamorphic widescreen picture exhibits a very smooth and finely detailed image with very rich colors, natural flesh tones, solid blacks and clean whites. The stylized image is also free of blemishes and digital enhancements. The audio is 5.1 and delivers a nice sonic boom to your side and rear speakers with intensity and realism. Extras include a host of promotional junket material that is rather deep and over the top in its explanation of how and why this film was made. If only, as an audience, we had had more clarification as to why Ben and co. were chasing after an illusive treasure, this might have been one good flick. Extras conclude with the theatrical trailer, audio commentary and deleted scenes. Not for the faint-hearted \\u0622\\u2013 just the thick-headed.\"\n        ],\n        \"semantic_type\": \"\",\n        \"description\": \"\"\n      }\n    },\n    {\n      \"column\": \"sentiment\",\n      \"properties\": {\n        \"dtype\": \"category\",\n        \"num_unique_values\": 2,\n        \"samples\": [\n          \"negative\",\n          \"positive\"\n        ],\n        \"semantic_type\": \"\",\n        \"description\": \"\"\n      }\n    }\n  ]\n}"
      }
     },
     "metadata": {},
     "execution_count": 5
    }
   ],
   "source": [
    "df = pd.read_excel(\"drive/MyDrive/IMDB_Dataset.xlsx\")\n",
    "df"
   ]
  },
  {
   "cell_type": "code",
   "execution_count": 6,
   "metadata": {
    "id": "5tNPQXJ1oBe6"
   },
   "outputs": [],
   "source": [
    "stop_words = set(stopwords.words('english'))"
   ]
  },
  {
   "cell_type": "code",
   "execution_count": 7,
   "metadata": {
    "id": "zAMej6FGnv3B"
   },
   "outputs": [],
   "source": [
    "def preprocessing_text(text):\n",
    "    tokens = word_tokenize(text.lower())\n",
    "    filtered_tokens = [word for word in tokens if word.isalnum() and word not in stop_words]\n",
    "    return ' '.join(filtered_tokens)"
   ]
  },
  {
   "cell_type": "code",
   "execution_count": 8,
   "metadata": {
    "id": "uDVfWFNapYTU"
   },
   "outputs": [],
   "source": [
    "df['review'] = df['review'].apply(preprocessing_text)\n",
    "df['sentiment'] = LabelEncoder().fit_transform(df['sentiment'])"
   ]
  },
  {
   "cell_type": "code",
   "execution_count": 9,
   "metadata": {
    "colab": {
     "base_uri": "https://localhost:8080/",
     "height": 423
    },
    "id": "VsPFxXZSpwy_",
    "outputId": "2ff1658f-53e7-43bb-8ca6-6b1ee2e4bb65"
   },
   "outputs": [
    {
     "output_type": "execute_result",
     "data": {
      "text/plain": [
       "                                                  review  sentiment\n",
       "0      one reviewers mentioned watching 1 oz episode ...          1\n",
       "1      wonderful little production br br filming tech...          1\n",
       "2      thought wonderful way spend time hot summer we...          1\n",
       "3      basically family little boy jake thinks zombie...          0\n",
       "4      petter mattei love time money visually stunnin...          1\n",
       "...                                                  ...        ...\n",
       "49995  thought movie right good job creative original...          1\n",
       "49996  bad plot bad dialogue bad acting idiotic direc...          0\n",
       "49997  catholic taught parochial elementary schools n...          0\n",
       "49998  going disagree previous comment side maltin on...          0\n",
       "49999  one expects star trek movies high art fans exp...          0\n",
       "\n",
       "[50000 rows x 2 columns]"
      ],
      "text/html": [
       "\n",
       "  <div id=\"df-612781b0-3506-4fd3-9cb4-5b9fcaad643f\" class=\"colab-df-container\">\n",
       "    <div>\n",
       "<style scoped>\n",
       "    .dataframe tbody tr th:only-of-type {\n",
       "        vertical-align: middle;\n",
       "    }\n",
       "\n",
       "    .dataframe tbody tr th {\n",
       "        vertical-align: top;\n",
       "    }\n",
       "\n",
       "    .dataframe thead th {\n",
       "        text-align: right;\n",
       "    }\n",
       "</style>\n",
       "<table border=\"1\" class=\"dataframe\">\n",
       "  <thead>\n",
       "    <tr style=\"text-align: right;\">\n",
       "      <th></th>\n",
       "      <th>review</th>\n",
       "      <th>sentiment</th>\n",
       "    </tr>\n",
       "  </thead>\n",
       "  <tbody>\n",
       "    <tr>\n",
       "      <th>0</th>\n",
       "      <td>one reviewers mentioned watching 1 oz episode ...</td>\n",
       "      <td>1</td>\n",
       "    </tr>\n",
       "    <tr>\n",
       "      <th>1</th>\n",
       "      <td>wonderful little production br br filming tech...</td>\n",
       "      <td>1</td>\n",
       "    </tr>\n",
       "    <tr>\n",
       "      <th>2</th>\n",
       "      <td>thought wonderful way spend time hot summer we...</td>\n",
       "      <td>1</td>\n",
       "    </tr>\n",
       "    <tr>\n",
       "      <th>3</th>\n",
       "      <td>basically family little boy jake thinks zombie...</td>\n",
       "      <td>0</td>\n",
       "    </tr>\n",
       "    <tr>\n",
       "      <th>4</th>\n",
       "      <td>petter mattei love time money visually stunnin...</td>\n",
       "      <td>1</td>\n",
       "    </tr>\n",
       "    <tr>\n",
       "      <th>...</th>\n",
       "      <td>...</td>\n",
       "      <td>...</td>\n",
       "    </tr>\n",
       "    <tr>\n",
       "      <th>49995</th>\n",
       "      <td>thought movie right good job creative original...</td>\n",
       "      <td>1</td>\n",
       "    </tr>\n",
       "    <tr>\n",
       "      <th>49996</th>\n",
       "      <td>bad plot bad dialogue bad acting idiotic direc...</td>\n",
       "      <td>0</td>\n",
       "    </tr>\n",
       "    <tr>\n",
       "      <th>49997</th>\n",
       "      <td>catholic taught parochial elementary schools n...</td>\n",
       "      <td>0</td>\n",
       "    </tr>\n",
       "    <tr>\n",
       "      <th>49998</th>\n",
       "      <td>going disagree previous comment side maltin on...</td>\n",
       "      <td>0</td>\n",
       "    </tr>\n",
       "    <tr>\n",
       "      <th>49999</th>\n",
       "      <td>one expects star trek movies high art fans exp...</td>\n",
       "      <td>0</td>\n",
       "    </tr>\n",
       "  </tbody>\n",
       "</table>\n",
       "<p>50000 rows × 2 columns</p>\n",
       "</div>\n",
       "    <div class=\"colab-df-buttons\">\n",
       "\n",
       "  <div class=\"colab-df-container\">\n",
       "    <button class=\"colab-df-convert\" onclick=\"convertToInteractive('df-612781b0-3506-4fd3-9cb4-5b9fcaad643f')\"\n",
       "            title=\"Convert this dataframe to an interactive table.\"\n",
       "            style=\"display:none;\">\n",
       "\n",
       "  <svg xmlns=\"http://www.w3.org/2000/svg\" height=\"24px\" viewBox=\"0 -960 960 960\">\n",
       "    <path d=\"M120-120v-720h720v720H120Zm60-500h600v-160H180v160Zm220 220h160v-160H400v160Zm0 220h160v-160H400v160ZM180-400h160v-160H180v160Zm440 0h160v-160H620v160ZM180-180h160v-160H180v160Zm440 0h160v-160H620v160Z\"/>\n",
       "  </svg>\n",
       "    </button>\n",
       "\n",
       "  <style>\n",
       "    .colab-df-container {\n",
       "      display:flex;\n",
       "      gap: 12px;\n",
       "    }\n",
       "\n",
       "    .colab-df-convert {\n",
       "      background-color: #E8F0FE;\n",
       "      border: none;\n",
       "      border-radius: 50%;\n",
       "      cursor: pointer;\n",
       "      display: none;\n",
       "      fill: #1967D2;\n",
       "      height: 32px;\n",
       "      padding: 0 0 0 0;\n",
       "      width: 32px;\n",
       "    }\n",
       "\n",
       "    .colab-df-convert:hover {\n",
       "      background-color: #E2EBFA;\n",
       "      box-shadow: 0px 1px 2px rgba(60, 64, 67, 0.3), 0px 1px 3px 1px rgba(60, 64, 67, 0.15);\n",
       "      fill: #174EA6;\n",
       "    }\n",
       "\n",
       "    .colab-df-buttons div {\n",
       "      margin-bottom: 4px;\n",
       "    }\n",
       "\n",
       "    [theme=dark] .colab-df-convert {\n",
       "      background-color: #3B4455;\n",
       "      fill: #D2E3FC;\n",
       "    }\n",
       "\n",
       "    [theme=dark] .colab-df-convert:hover {\n",
       "      background-color: #434B5C;\n",
       "      box-shadow: 0px 1px 3px 1px rgba(0, 0, 0, 0.15);\n",
       "      filter: drop-shadow(0px 1px 2px rgba(0, 0, 0, 0.3));\n",
       "      fill: #FFFFFF;\n",
       "    }\n",
       "  </style>\n",
       "\n",
       "    <script>\n",
       "      const buttonEl =\n",
       "        document.querySelector('#df-612781b0-3506-4fd3-9cb4-5b9fcaad643f button.colab-df-convert');\n",
       "      buttonEl.style.display =\n",
       "        google.colab.kernel.accessAllowed ? 'block' : 'none';\n",
       "\n",
       "      async function convertToInteractive(key) {\n",
       "        const element = document.querySelector('#df-612781b0-3506-4fd3-9cb4-5b9fcaad643f');\n",
       "        const dataTable =\n",
       "          await google.colab.kernel.invokeFunction('convertToInteractive',\n",
       "                                                    [key], {});\n",
       "        if (!dataTable) return;\n",
       "\n",
       "        const docLinkHtml = 'Like what you see? Visit the ' +\n",
       "          '<a target=\"_blank\" href=https://colab.research.google.com/notebooks/data_table.ipynb>data table notebook</a>'\n",
       "          + ' to learn more about interactive tables.';\n",
       "        element.innerHTML = '';\n",
       "        dataTable['output_type'] = 'display_data';\n",
       "        await google.colab.output.renderOutput(dataTable, element);\n",
       "        const docLink = document.createElement('div');\n",
       "        docLink.innerHTML = docLinkHtml;\n",
       "        element.appendChild(docLink);\n",
       "      }\n",
       "    </script>\n",
       "  </div>\n",
       "\n",
       "\n",
       "    <div id=\"df-bcb0ae45-6725-41a8-812e-2361c5977c83\">\n",
       "      <button class=\"colab-df-quickchart\" onclick=\"quickchart('df-bcb0ae45-6725-41a8-812e-2361c5977c83')\"\n",
       "                title=\"Suggest charts\"\n",
       "                style=\"display:none;\">\n",
       "\n",
       "<svg xmlns=\"http://www.w3.org/2000/svg\" height=\"24px\"viewBox=\"0 0 24 24\"\n",
       "     width=\"24px\">\n",
       "    <g>\n",
       "        <path d=\"M19 3H5c-1.1 0-2 .9-2 2v14c0 1.1.9 2 2 2h14c1.1 0 2-.9 2-2V5c0-1.1-.9-2-2-2zM9 17H7v-7h2v7zm4 0h-2V7h2v10zm4 0h-2v-4h2v4z\"/>\n",
       "    </g>\n",
       "</svg>\n",
       "      </button>\n",
       "\n",
       "<style>\n",
       "  .colab-df-quickchart {\n",
       "      --bg-color: #E8F0FE;\n",
       "      --fill-color: #1967D2;\n",
       "      --hover-bg-color: #E2EBFA;\n",
       "      --hover-fill-color: #174EA6;\n",
       "      --disabled-fill-color: #AAA;\n",
       "      --disabled-bg-color: #DDD;\n",
       "  }\n",
       "\n",
       "  [theme=dark] .colab-df-quickchart {\n",
       "      --bg-color: #3B4455;\n",
       "      --fill-color: #D2E3FC;\n",
       "      --hover-bg-color: #434B5C;\n",
       "      --hover-fill-color: #FFFFFF;\n",
       "      --disabled-bg-color: #3B4455;\n",
       "      --disabled-fill-color: #666;\n",
       "  }\n",
       "\n",
       "  .colab-df-quickchart {\n",
       "    background-color: var(--bg-color);\n",
       "    border: none;\n",
       "    border-radius: 50%;\n",
       "    cursor: pointer;\n",
       "    display: none;\n",
       "    fill: var(--fill-color);\n",
       "    height: 32px;\n",
       "    padding: 0;\n",
       "    width: 32px;\n",
       "  }\n",
       "\n",
       "  .colab-df-quickchart:hover {\n",
       "    background-color: var(--hover-bg-color);\n",
       "    box-shadow: 0 1px 2px rgba(60, 64, 67, 0.3), 0 1px 3px 1px rgba(60, 64, 67, 0.15);\n",
       "    fill: var(--button-hover-fill-color);\n",
       "  }\n",
       "\n",
       "  .colab-df-quickchart-complete:disabled,\n",
       "  .colab-df-quickchart-complete:disabled:hover {\n",
       "    background-color: var(--disabled-bg-color);\n",
       "    fill: var(--disabled-fill-color);\n",
       "    box-shadow: none;\n",
       "  }\n",
       "\n",
       "  .colab-df-spinner {\n",
       "    border: 2px solid var(--fill-color);\n",
       "    border-color: transparent;\n",
       "    border-bottom-color: var(--fill-color);\n",
       "    animation:\n",
       "      spin 1s steps(1) infinite;\n",
       "  }\n",
       "\n",
       "  @keyframes spin {\n",
       "    0% {\n",
       "      border-color: transparent;\n",
       "      border-bottom-color: var(--fill-color);\n",
       "      border-left-color: var(--fill-color);\n",
       "    }\n",
       "    20% {\n",
       "      border-color: transparent;\n",
       "      border-left-color: var(--fill-color);\n",
       "      border-top-color: var(--fill-color);\n",
       "    }\n",
       "    30% {\n",
       "      border-color: transparent;\n",
       "      border-left-color: var(--fill-color);\n",
       "      border-top-color: var(--fill-color);\n",
       "      border-right-color: var(--fill-color);\n",
       "    }\n",
       "    40% {\n",
       "      border-color: transparent;\n",
       "      border-right-color: var(--fill-color);\n",
       "      border-top-color: var(--fill-color);\n",
       "    }\n",
       "    60% {\n",
       "      border-color: transparent;\n",
       "      border-right-color: var(--fill-color);\n",
       "    }\n",
       "    80% {\n",
       "      border-color: transparent;\n",
       "      border-right-color: var(--fill-color);\n",
       "      border-bottom-color: var(--fill-color);\n",
       "    }\n",
       "    90% {\n",
       "      border-color: transparent;\n",
       "      border-bottom-color: var(--fill-color);\n",
       "    }\n",
       "  }\n",
       "</style>\n",
       "\n",
       "      <script>\n",
       "        async function quickchart(key) {\n",
       "          const quickchartButtonEl =\n",
       "            document.querySelector('#' + key + ' button');\n",
       "          quickchartButtonEl.disabled = true;  // To prevent multiple clicks.\n",
       "          quickchartButtonEl.classList.add('colab-df-spinner');\n",
       "          try {\n",
       "            const charts = await google.colab.kernel.invokeFunction(\n",
       "                'suggestCharts', [key], {});\n",
       "          } catch (error) {\n",
       "            console.error('Error during call to suggestCharts:', error);\n",
       "          }\n",
       "          quickchartButtonEl.classList.remove('colab-df-spinner');\n",
       "          quickchartButtonEl.classList.add('colab-df-quickchart-complete');\n",
       "        }\n",
       "        (() => {\n",
       "          let quickchartButtonEl =\n",
       "            document.querySelector('#df-bcb0ae45-6725-41a8-812e-2361c5977c83 button');\n",
       "          quickchartButtonEl.style.display =\n",
       "            google.colab.kernel.accessAllowed ? 'block' : 'none';\n",
       "        })();\n",
       "      </script>\n",
       "    </div>\n",
       "    </div>\n",
       "  </div>\n"
      ],
      "application/vnd.google.colaboratory.intrinsic+json": {
       "type": "dataframe",
       "variable_name": "df",
       "summary": "{\n  \"name\": \"df\",\n  \"rows\": 50000,\n  \"fields\": [\n    {\n      \"column\": \"review\",\n      \"properties\": {\n        \"dtype\": \"string\",\n        \"num_unique_values\": 49578,\n        \"samples\": [\n          \"since frame number 1 know good guy suit necktie luck sorte nula believes music car radio dubious talk best friend company associate taking parts unknown desert road alberto wished simply left alone take flight abroad next day well someone left guessing br br film goes long way find short closing scene man hearing music cab airport number lucky people found different ways story dying born others falling harrowing distress time really film sort show director fernando fragata left sound recording special effects competent people typically reject portuguese films due sound problems unclear speech recording must go searching topics criticize time car crash spoilers film clever makes great scene apparently done cheap equipment us studios take notice may spare dollar two hiding competent portuguese directors br br rest done fragata script dialogue camera work editing part dialogue must congratulated acting direction casting mostly inexperienced actors large number parts credited people used music video clip making used extensively film promotional trailer cast dozen actors actresses ten relevant persons huge number relationships revealed thrilling suspenseful way reminiscent best genre authors hitchcock qv chabrol qv come mind play director public nature br br recommend thriller comedy portuguese language speakers film gets decent translation colloquial dialogue anyone abroad enjoys genres\",\n          \"dentist really good thriller pretty disturbing think agree chances running psycho dentist much bigger running monsters vampires zombies exactly movie scary film probably think dentist times whether capable things better pray wife cheat story respected dentist la snaps finds wife cheating must greatest profession world way poolboys always take advantage housewives husband work dentist feinstone thing taking revenge ca concentrate patients anymore couple get hurt things made easier dentist chased annoying curious cop suspicious staff member one point feinstone ca take anymore wife everyone comes near dentist written directed brian yuzna stuart gordon take recommendation 2 persons already gave us great horror movies personal favorites mine like beyond society dentist succeed bring entertaining chilling thriller film came right time actually decade brought us many great horror films far saying masterpiece nice change corbin bensen great dentist obsessed hygiene remember mostly comedy drama actor sure handle psychotic character rest cast good work woman plays feinstone wife really attractive also great see ken foree acting actor time favorite movie dawn dead plays cop film yuzna casted beyond 15 years ago thank recommend movie everyone weak stomach advise skip watch enjoy much disgusted extra reason think since really freaked watching film great topic handle genre yuzna great way bad film followed completely unnecessary sequel humble opinion dentist\",\n          \"dear reader watch movie really movie though creators impertinence call warned content goes film simply sequence imagines flow continually trying transmit certain feeling concept could called therefore symbols images accompanied soundtrack purpose create atmosphere well however images director chosen transmit feelings american audience overwhelming number american icons though film intended express idea civilized warfare fails general chaos also far long tiresome strongly felt lot scenes war whichever conception conclude greatly disappointed documentary documentary movie movie something whose strong point extraordinary use technology image processing\"\n        ],\n        \"semantic_type\": \"\",\n        \"description\": \"\"\n      }\n    },\n    {\n      \"column\": \"sentiment\",\n      \"properties\": {\n        \"dtype\": \"number\",\n        \"std\": 0,\n        \"min\": 0,\n        \"max\": 1,\n        \"num_unique_values\": 2,\n        \"samples\": [\n          0,\n          1\n        ],\n        \"semantic_type\": \"\",\n        \"description\": \"\"\n      }\n    }\n  ]\n}"
      }
     },
     "metadata": {},
     "execution_count": 9
    }
   ],
   "source": [
    "df"
   ]
  },
  {
   "cell_type": "code",
   "execution_count": 10,
   "metadata": {
    "id": "EUR8u7K6p_Cn"
   },
   "outputs": [],
   "source": [
    "x = df['review']\n",
    "y = df['sentiment']\n",
    "\n",
    "x_train, x_test, y_train, y_test = train_test_split(x, y, test_size=0.2, stratify=y, random_state=42)"
   ]
  },
  {
   "cell_type": "code",
   "execution_count": 11,
   "metadata": {
    "id": "I2g0J4B0r5YZ"
   },
   "outputs": [],
   "source": [
    "vectorizer = TfidfVectorizer(max_features=3000, sublinear_tf=True)\n",
    "\n",
    "x_train_vectorized = vectorizer.fit_transform(x_train).toarray()\n",
    "x_test_vectorized = vectorizer.transform(x_test).toarray()"
   ]
  },
  {
   "cell_type": "code",
   "execution_count": null,
   "metadata": {
    "id": "ZchBs-RJzwUL"
   },
   "outputs": [],
   "source": [
    "# x_train_dense = x_train_vectorized.toarray()\n",
    "# x_test_dense = x_test_vectorized.toarray()\n"
   ]
  },
  {
   "cell_type": "code",
   "execution_count": 12,
   "metadata": {
    "id": "FwnJf1g1zyy4"
   },
   "outputs": [],
   "source": [
    "scaler = StandardScaler()\n",
    "x_train_scaled = scaler.fit_transform(x_train_vectorized)\n",
    "x_test_scaled = scaler.transform(x_test_vectorized)"
   ]
  },
  {
   "cell_type": "code",
   "execution_count": null,
   "metadata": {
    "colab": {
     "base_uri": "https://localhost:8080/"
    },
    "id": "tRBrQHM-sBIB",
    "outputId": "c968865b-a16c-42ca-cd79-f990de584a24"
   },
   "outputs": [
    {
     "name": "stderr",
     "output_type": "stream",
     "text": [
      "[I 2025-05-02 21:07:32,521] A new study created in memory with name: no-name-02bf859c-32a3-4404-874e-ea2ec2ef864f\n",
      "[I 2025-05-02 21:09:19,903] Trial 0 finished with value: 0.8824749211050661 and parameters: {'C': 1}. Best is trial 0 with value: 0.8824749211050661.\n",
      "[I 2025-05-02 21:11:00,081] Trial 1 finished with value: 0.8824749211050661 and parameters: {'C': 1}. Best is trial 0 with value: 0.8824749211050661.\n",
      "[I 2025-05-02 21:13:40,543] Trial 2 finished with value: 0.8824249198550348 and parameters: {'C': 10}. Best is trial 0 with value: 0.8824749211050661.\n",
      "[I 2025-05-02 21:15:23,474] Trial 3 finished with value: 0.8824749211050661 and parameters: {'C': 1}. Best is trial 0 with value: 0.8824749211050661.\n",
      "[I 2025-05-02 21:17:58,744] Trial 4 finished with value: 0.8824249198550348 and parameters: {'C': 10}. Best is trial 0 with value: 0.8824749211050661.\n",
      "[I 2025-05-02 21:20:34,163] Trial 5 finished with value: 0.8824249198550348 and parameters: {'C': 10}. Best is trial 0 with value: 0.8824749211050661.\n",
      "[I 2025-05-02 21:21:44,873] Trial 6 finished with value: 0.8620999423290666 and parameters: {'C': 0.1}. Best is trial 0 with value: 0.8824749211050661.\n",
      "[I 2025-05-02 21:23:20,462] Trial 7 finished with value: 0.8824749211050661 and parameters: {'C': 1}. Best is trial 0 with value: 0.8824749211050661.\n",
      "[I 2025-05-02 21:26:22,731] Trial 8 finished with value: 0.8824249198550348 and parameters: {'C': 10}. Best is trial 0 with value: 0.8824749211050661.\n",
      "[I 2025-05-02 21:27:56,361] Trial 9 finished with value: 0.8824749211050661 and parameters: {'C': 1}. Best is trial 0 with value: 0.8824749211050661.\n"
     ]
    },
    {
     "name": "stdout",
     "output_type": "stream",
     "text": [
      "best param svc: {'C': 1}\n"
     ]
    }
   ],
   "source": [
    "def objective(trial):\n",
    "    C = trial.suggest_categorical('C', [0.1, 1, 10])\n",
    "\n",
    "    model = SVC(C=C, random_state=42)\n",
    "\n",
    "    score = cross_val_score(model, x_train_vectorized, y_train, scoring='accuracy', cv=3)\n",
    "\n",
    "    return score.mean()\n",
    "\n",
    "study = optuna.create_study(direction='maximize')\n",
    "study.optimize(objective, n_trials=10)\n",
    "\n",
    "best_param_svc = study.best_params\n",
    "print(f\"best param svc: {best_param_svc}\")"
   ]
  },
  {
   "cell_type": "code",
   "execution_count": null,
   "metadata": {
    "colab": {
     "base_uri": "https://localhost:8080/"
    },
    "id": "uk9_GBdVewVs",
    "outputId": "92fda827-a139-4161-8d96-15b36f2317ab"
   },
   "outputs": [
    {
     "name": "stderr",
     "output_type": "stream",
     "text": [
      "[I 2025-04-30 15:45:48,339] A new study created in memory with name: no-name-789ff2e7-e75b-4fcb-90c9-bf2c0063cc42\n",
      "[I 2025-04-30 15:48:08,135] Trial 0 finished with value: 0.8299 and parameters: {'n_estimators': 200, 'max_depth': 18, 'min_samples_split': 7, 'criterion': 'gini'}. Best is trial 0 with value: 0.8299.\n",
      "[I 2025-04-30 15:51:24,187] Trial 1 finished with value: 0.8356 and parameters: {'n_estimators': 150, 'max_depth': 27, 'min_samples_split': 9, 'criterion': 'gini'}. Best is trial 1 with value: 0.8356.\n",
      "[I 2025-04-30 15:55:24,333] Trial 2 finished with value: 0.8383750000000001 and parameters: {'n_estimators': 100, 'max_depth': 42, 'min_samples_split': 6, 'criterion': 'gini'}. Best is trial 2 with value: 0.8383750000000001.\n",
      "[I 2025-04-30 15:59:42,984] Trial 3 finished with value: 0.841325 and parameters: {'n_estimators': 100, 'max_depth': 48, 'min_samples_split': 11, 'criterion': 'gini'}. Best is trial 3 with value: 0.841325.\n",
      "[I 2025-04-30 15:59:59,280] Trial 4 finished with value: 0.8119500000000001 and parameters: {'n_estimators': 50, 'max_depth': 11, 'min_samples_split': 15, 'criterion': 'gini'}. Best is trial 3 with value: 0.841325.\n",
      "[I 2025-04-30 16:00:49,735] Trial 5 finished with value: 0.8279 and parameters: {'n_estimators': 50, 'max_depth': 22, 'min_samples_split': 2, 'criterion': 'gini'}. Best is trial 3 with value: 0.841325.\n",
      "[I 2025-04-30 16:08:59,453] Trial 6 finished with value: 0.843275 and parameters: {'n_estimators': 200, 'max_depth': 43, 'min_samples_split': 6, 'criterion': 'entropy'}. Best is trial 6 with value: 0.843275.\n",
      "[I 2025-04-30 16:09:50,494] Trial 7 finished with value: 0.817175 and parameters: {'n_estimators': 200, 'max_depth': 9, 'min_samples_split': 14, 'criterion': 'gini'}. Best is trial 6 with value: 0.843275.\n",
      "[I 2025-04-30 16:13:44,889] Trial 8 finished with value: 0.84175 and parameters: {'n_estimators': 100, 'max_depth': 43, 'min_samples_split': 11, 'criterion': 'entropy'}. Best is trial 6 with value: 0.843275.\n",
      "[I 2025-04-30 16:14:35,594] Trial 9 finished with value: 0.8254249999999999 and parameters: {'n_estimators': 100, 'max_depth': 15, 'min_samples_split': 13, 'criterion': 'gini'}. Best is trial 6 with value: 0.843275.\n",
      "[I 2025-04-30 16:19:51,174] Trial 10 finished with value: 0.8396000000000001 and parameters: {'n_estimators': 200, 'max_depth': 33, 'min_samples_split': 20, 'criterion': 'entropy'}. Best is trial 6 with value: 0.843275.\n",
      "[I 2025-04-30 16:25:28,531] Trial 11 finished with value: 0.8391 and parameters: {'n_estimators': 150, 'max_depth': 38, 'min_samples_split': 3, 'criterion': 'entropy'}. Best is trial 6 with value: 0.843275.\n",
      "[I 2025-04-30 16:30:09,011] Trial 12 finished with value: 0.8410249999999999 and parameters: {'n_estimators': 100, 'max_depth': 49, 'min_samples_split': 6, 'criterion': 'entropy'}. Best is trial 6 with value: 0.843275.\n",
      "[I 2025-04-30 16:37:09,728] Trial 13 finished with value: 0.8415250000000001 and parameters: {'n_estimators': 200, 'max_depth': 40, 'min_samples_split': 18, 'criterion': 'entropy'}. Best is trial 6 with value: 0.843275.\n",
      "[I 2025-04-30 16:40:02,611] Trial 14 finished with value: 0.8357749999999999 and parameters: {'n_estimators': 100, 'max_depth': 33, 'min_samples_split': 10, 'criterion': 'entropy'}. Best is trial 6 with value: 0.843275.\n"
     ]
    },
    {
     "name": "stdout",
     "output_type": "stream",
     "text": [
      "best param rf: {'n_estimators': 200, 'max_depth': 43, 'min_samples_split': 6, 'criterion': 'entropy'}\n"
     ]
    }
   ],
   "source": [
    "def objective(trial):\n",
    "    n_estimators = trial.suggest_categorical(\"n_estimators\",[50, 100, 150, 200])\n",
    "    max_depth = trial.suggest_int(\"max_depth\", 5, 50)\n",
    "    min_samples_split = trial.suggest_int('min_samples_split', 2, 20)\n",
    "    criterion = trial.suggest_categorical(\"criterion\", [\"gini\", \"entropy\"])\n",
    "\n",
    "    model = RandomForestClassifier(\n",
    "        n_estimators=n_estimators,\n",
    "        max_depth=max_depth,\n",
    "        min_samples_split=min_samples_split,\n",
    "        criterion=criterion,\n",
    "        random_state=42\n",
    "    )\n",
    "\n",
    "    score = cross_val_score(model, x_train_vectorized, y_train, scoring='accuracy', cv=5)\n",
    "\n",
    "    return score.mean()\n",
    "\n",
    "study = optuna.create_study(direction=\"maximize\")\n",
    "study.optimize(objective, n_trials=15)\n",
    "\n",
    "best_param_rf = study.best_params\n",
    "print(f\"best param rf: {best_param_rf}\")"
   ]
  },
  {
   "cell_type": "code",
   "execution_count": null,
   "metadata": {
    "colab": {
     "base_uri": "https://localhost:8080/"
    },
    "id": "iB4bTeK5pr9I",
    "outputId": "a6fd6f0a-ecd3-44e8-909f-c21f5742c6b5"
   },
   "outputs": [
    {
     "name": "stderr",
     "output_type": "stream",
     "text": [
      "[I 2025-04-30 16:41:24,306] A new study created in memory with name: no-name-e6ddd152-e557-406d-9f85-71633637e8de\n"
     ]
    },
    {
     "name": "stdout",
     "output_type": "stream",
     "text": [
      "[2025-04-30 16:41:24.308] [CUML] [info] Unused keyword parameter: random_state during cuML estimator initialization\n"
     ]
    },
    {
     "name": "stderr",
     "output_type": "stream",
     "text": [
      "[I 2025-04-30 16:41:28,055] Trial 0 finished with value: 0.86915 and parameters: {'C': 0.1}. Best is trial 0 with value: 0.86915.\n"
     ]
    },
    {
     "name": "stdout",
     "output_type": "stream",
     "text": [
      "[2025-04-30 16:41:28.060] [CUML] [info] Unused keyword parameter: random_state during cuML estimator initialization\n"
     ]
    },
    {
     "name": "stderr",
     "output_type": "stream",
     "text": [
      "[I 2025-04-30 16:41:28,394] Trial 1 finished with value: 0.86915 and parameters: {'C': 0.1}. Best is trial 0 with value: 0.86915.\n"
     ]
    },
    {
     "name": "stdout",
     "output_type": "stream",
     "text": [
      "[2025-04-30 16:41:28.395] [CUML] [info] Unused keyword parameter: random_state during cuML estimator initialization\n"
     ]
    },
    {
     "name": "stderr",
     "output_type": "stream",
     "text": [
      "[I 2025-04-30 16:41:28,947] Trial 2 finished with value: 0.8823000000000001 and parameters: {'C': 1}. Best is trial 2 with value: 0.8823000000000001.\n"
     ]
    },
    {
     "name": "stdout",
     "output_type": "stream",
     "text": [
      "[2025-04-30 16:41:28.950] [CUML] [info] Unused keyword parameter: random_state during cuML estimator initialization\n"
     ]
    },
    {
     "name": "stderr",
     "output_type": "stream",
     "text": [
      "[I 2025-04-30 16:41:29,480] Trial 3 finished with value: 0.88225 and parameters: {'C': 1}. Best is trial 2 with value: 0.8823000000000001.\n"
     ]
    },
    {
     "name": "stdout",
     "output_type": "stream",
     "text": [
      "[2025-04-30 16:41:29.484] [CUML] [info] Unused keyword parameter: random_state during cuML estimator initialization\n"
     ]
    },
    {
     "name": "stderr",
     "output_type": "stream",
     "text": [
      "[I 2025-04-30 16:41:29,921] Trial 4 finished with value: 0.8823000000000001 and parameters: {'C': 1}. Best is trial 2 with value: 0.8823000000000001.\n"
     ]
    },
    {
     "name": "stdout",
     "output_type": "stream",
     "text": [
      "[2025-04-30 16:41:29.922] [CUML] [info] Unused keyword parameter: random_state during cuML estimator initialization\n"
     ]
    },
    {
     "name": "stderr",
     "output_type": "stream",
     "text": [
      "[I 2025-04-30 16:41:30,519] Trial 5 finished with value: 0.8771000000000001 and parameters: {'C': 10}. Best is trial 2 with value: 0.8823000000000001.\n"
     ]
    },
    {
     "name": "stdout",
     "output_type": "stream",
     "text": [
      "[2025-04-30 16:41:30.520] [CUML] [info] Unused keyword parameter: random_state during cuML estimator initialization\n"
     ]
    },
    {
     "name": "stderr",
     "output_type": "stream",
     "text": [
      "[I 2025-04-30 16:41:31,148] Trial 6 finished with value: 0.8768250000000002 and parameters: {'C': 10}. Best is trial 2 with value: 0.8823000000000001.\n"
     ]
    },
    {
     "name": "stdout",
     "output_type": "stream",
     "text": [
      "[2025-04-30 16:41:31.150] [CUML] [info] Unused keyword parameter: random_state during cuML estimator initialization\n"
     ]
    },
    {
     "name": "stderr",
     "output_type": "stream",
     "text": [
      "[I 2025-04-30 16:41:31,535] Trial 7 finished with value: 0.88225 and parameters: {'C': 1}. Best is trial 2 with value: 0.8823000000000001.\n"
     ]
    },
    {
     "name": "stdout",
     "output_type": "stream",
     "text": [
      "[2025-04-30 16:41:31.536] [CUML] [info] Unused keyword parameter: random_state during cuML estimator initialization\n"
     ]
    },
    {
     "name": "stderr",
     "output_type": "stream",
     "text": [
      "[I 2025-04-30 16:41:31,775] Trial 8 finished with value: 0.86915 and parameters: {'C': 0.1}. Best is trial 2 with value: 0.8823000000000001.\n"
     ]
    },
    {
     "name": "stdout",
     "output_type": "stream",
     "text": [
      "[2025-04-30 16:41:31.776] [CUML] [info] Unused keyword parameter: random_state during cuML estimator initialization\n"
     ]
    },
    {
     "name": "stderr",
     "output_type": "stream",
     "text": [
      "[I 2025-04-30 16:41:32,003] Trial 9 finished with value: 0.86915 and parameters: {'C': 0.1}. Best is trial 2 with value: 0.8823000000000001.\n"
     ]
    },
    {
     "name": "stdout",
     "output_type": "stream",
     "text": [
      "[2025-04-30 16:41:32.005] [CUML] [info] Unused keyword parameter: random_state during cuML estimator initialization\n"
     ]
    },
    {
     "name": "stderr",
     "output_type": "stream",
     "text": [
      "[I 2025-04-30 16:41:32,388] Trial 10 finished with value: 0.8821749999999999 and parameters: {'C': 1}. Best is trial 2 with value: 0.8823000000000001.\n"
     ]
    },
    {
     "name": "stdout",
     "output_type": "stream",
     "text": [
      "[2025-04-30 16:41:32.390] [CUML] [info] Unused keyword parameter: random_state during cuML estimator initialization\n"
     ]
    },
    {
     "name": "stderr",
     "output_type": "stream",
     "text": [
      "[I 2025-04-30 16:41:32,771] Trial 11 finished with value: 0.8823000000000001 and parameters: {'C': 1}. Best is trial 2 with value: 0.8823000000000001.\n"
     ]
    },
    {
     "name": "stdout",
     "output_type": "stream",
     "text": [
      "[2025-04-30 16:41:32.774] [CUML] [info] Unused keyword parameter: random_state during cuML estimator initialization\n"
     ]
    },
    {
     "name": "stderr",
     "output_type": "stream",
     "text": [
      "[I 2025-04-30 16:41:33,147] Trial 12 finished with value: 0.88225 and parameters: {'C': 1}. Best is trial 2 with value: 0.8823000000000001.\n"
     ]
    },
    {
     "name": "stdout",
     "output_type": "stream",
     "text": [
      "[2025-04-30 16:41:33.151] [CUML] [info] Unused keyword parameter: random_state during cuML estimator initialization\n"
     ]
    },
    {
     "name": "stderr",
     "output_type": "stream",
     "text": [
      "[I 2025-04-30 16:41:33,524] Trial 13 finished with value: 0.8822749999999999 and parameters: {'C': 1}. Best is trial 2 with value: 0.8823000000000001.\n"
     ]
    },
    {
     "name": "stdout",
     "output_type": "stream",
     "text": [
      "[2025-04-30 16:41:33.527] [CUML] [info] Unused keyword parameter: random_state during cuML estimator initialization\n"
     ]
    },
    {
     "name": "stderr",
     "output_type": "stream",
     "text": [
      "[I 2025-04-30 16:41:33,904] Trial 14 finished with value: 0.8822000000000001 and parameters: {'C': 1}. Best is trial 2 with value: 0.8823000000000001.\n"
     ]
    },
    {
     "name": "stdout",
     "output_type": "stream",
     "text": [
      "best param lr: {'C': 1}\n"
     ]
    }
   ],
   "source": [
    "def objective(trial):\n",
    "    C = trial.suggest_categorical(\"C\", [0.1, 1, 10])\n",
    "\n",
    "    model = LogisticRegression(\n",
    "        C=C,\n",
    "        penalty='l2',\n",
    "        random_state=42\n",
    "    )\n",
    "\n",
    "    score = cross_val_score(model, x_train_vectorized, y_train, scoring='accuracy', cv=5)\n",
    "\n",
    "    return score.mean()\n",
    "\n",
    "study = optuna.create_study(direction=\"maximize\")\n",
    "study.optimize(objective, n_trials=15)\n",
    "\n",
    "best_param_lr = study.best_params\n",
    "print(f\"best param lr: {best_param_lr}\")"
   ]
  },
  {
   "cell_type": "code",
   "metadata": {
    "colab": {
     "base_uri": "https://localhost:8080/"
    },
    "id": "o5vNXJmqvjit",
    "outputId": "d734a625-8454-4c62-fc5a-c0a7252d94c4",
    "ExecuteTime": {
     "end_time": "2025-05-03T21:39:24.270815Z",
     "start_time": "2025-05-03T21:39:24.256728Z"
    }
   },
   "source": [
    "def objective(trial):\n",
    "    hidden_layer_sizes = trial.suggest_categorical(\"hidden_layer_sizes\", [50, 100, 150, 200])\n",
    "    activation = trial.suggest_categorical(\"activation\", [\"relu\", \"tanh\", \"logistic\"])\n",
    "    solver = trial.suggest_categorical(\"solver\", [\"adam\", \"sgd\"])\n",
    "    alpha = trial.suggest_loguniform(\"alpha\", 1e-5, 1e-2)\n",
    "\n",
    "    model = MLPClassifier(\n",
    "        hidden_layer_sizes=hidden_layer_sizes,\n",
    "        activation=activation,\n",
    "        solver=solver,\n",
    "        alpha=alpha,\n",
    "        early_stopping=True,\n",
    "        random_state=42\n",
    "    )\n",
    "\n",
    "    score = cross_val_score(model, x_train_scaled, y_train, scoring=\"accuracy\", cv=5)\n",
    "\n",
    "    return score.mean()\n",
    "\n",
    "study = optuna.create_study(direction=\"maximize\")\n",
    "study.optimize(objective, n_trials=10)\n",
    "\n",
    "best_param_mlp = study.best_params\n",
    "print(f\"best param mlp: {best_param_mlp}\")"
   ],
   "outputs": [],
   "execution_count": 1
  },
  {
   "cell_type": "code",
   "execution_count": null,
   "metadata": {
    "id": "F-gE76_6OEmM"
   },
   "outputs": [],
   "source": []
  }
 ],
 "metadata": {
  "accelerator": "GPU",
  "colab": {
   "gpuType": "T4",
   "provenance": []
  },
  "kernelspec": {
   "display_name": "Python 3 (ipykernel)",
   "name": "python3",
   "language": "python"
  },
  "language_info": {
   "name": "python"
  }
 },
 "nbformat": 4,
 "nbformat_minor": 0
}
